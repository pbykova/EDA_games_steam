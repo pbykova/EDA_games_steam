{
 "cells": [
  {
   "cell_type": "markdown",
   "id": "5dea5add",
   "metadata": {},
   "source": [
    "# Assignment 1"
   ]
  },
  {
   "cell_type": "markdown",
   "id": "d2c2b237",
   "metadata": {},
   "source": [
    "## Exploratory Data Analysis\n"
   ]
  },
  {
   "cell_type": "markdown",
   "id": "2d009eac",
   "metadata": {},
   "source": [
    "### Game recomendations in Steam "
   ]
  },
  {
   "cell_type": "markdown",
   "id": "ed7b08fc",
   "metadata": {},
   "source": [
    "Analyzing Steam game data is fascinating for me as a gamer who frequently uses Steam. It provides insights into trends, pricing, and user reviews, enriching my understanding of the gaming landscape. This analysis is a personal exploration, offering a unique perspective on the games I enjoy and the broader Steam community, potentially enhancing my gaming experiences. \n",
    "My goals are: \n",
    "1. Explore trends in pricing and how it correlates with game popularity\n",
    "2. Investigate the relationship between pricing, reviews, and sales\n",
    "3. Analyze how certain attributes contribute to a game's popularity"
   ]
  },
  {
   "cell_type": "code",
   "execution_count": 1,
   "id": "899cb6fb",
   "metadata": {},
   "outputs": [],
   "source": [
    "# Importing all necessary libraries\n",
    "import pandas as pd\n",
    "import matplotlib.pyplot as plt\n",
    "import seaborn as sns\n",
    "import numpy as np\n",
    "import os\n",
    "from collections import Counter\n",
    "from datetime import datetime\n",
    "pd.set_option('display.float_format', lambda x: '%.3f' % x)"
   ]
  },
  {
   "cell_type": "markdown",
   "id": "30470653",
   "metadata": {},
   "source": [
    "<p>The dataset consists of three main entities:</p>\n",
    "<ul>\n",
    "<li><a target=\"_blank\" href=\"https://www.kaggle.com/datasets/antonkozyriev/game-recommendations-on-steam?select=games.csv\">games.csv</a> - a table of games (or add-ons) information on ratings, pricing in US dollars $, release date, etc. A piece of extra non-tabular details on games, such as descriptions and tags, is in a <a target=\"_blank\" href=\"https://www.kaggle.com/datasets/antonkozyriev/game-recommendations-on-steam?select=games_metadata.json\">metadata file</a>;</li>\n",
    "<li><a target=\"_blank\" href=\"https://www.kaggle.com/datasets/antonkozyriev/game-recommendations-on-steam?select=users.csv\">users.csv</a> - a table of user profiles' public information: the number of purchased products and reviews published;</li>\n",
    "<li><a target=\"_blank\" href=\"https://www.kaggle.com/datasets/antonkozyriev/game-recommendations-on-steam?select=recommendations.csv\">recommendations.csv</a> - a table of user reviews: whether the user recommends a product. The table represents a many-many relation between a game entity and a user entity.</li>\n",
    "</ul>"
   ]
  },
  {
   "cell_type": "code",
   "execution_count": 2,
   "id": "5e0d2348",
   "metadata": {},
   "outputs": [],
   "source": [
    "# Loading the data\n",
    "games_data = pd.read_csv('./games.csv')\n",
    "recommendations_data = pd.read_csv('./recommendations.csv')\n",
    "users_data = pd.read_csv('./users.csv')"
   ]
  },
  {
   "cell_type": "code",
   "execution_count": 3,
   "id": "581f1f54",
   "metadata": {},
   "outputs": [
    {
     "data": {
      "text/html": [
       "<div>\n",
       "<style scoped>\n",
       "    .dataframe tbody tr th:only-of-type {\n",
       "        vertical-align: middle;\n",
       "    }\n",
       "\n",
       "    .dataframe tbody tr th {\n",
       "        vertical-align: top;\n",
       "    }\n",
       "\n",
       "    .dataframe thead th {\n",
       "        text-align: right;\n",
       "    }\n",
       "</style>\n",
       "<table border=\"1\" class=\"dataframe\">\n",
       "  <thead>\n",
       "    <tr style=\"text-align: right;\">\n",
       "      <th></th>\n",
       "      <th>app_id</th>\n",
       "      <th>title</th>\n",
       "      <th>date_release</th>\n",
       "      <th>win</th>\n",
       "      <th>mac</th>\n",
       "      <th>linux</th>\n",
       "      <th>rating</th>\n",
       "      <th>positive_ratio</th>\n",
       "      <th>user_reviews</th>\n",
       "      <th>price_final</th>\n",
       "      <th>price_original</th>\n",
       "      <th>discount</th>\n",
       "      <th>steam_deck</th>\n",
       "    </tr>\n",
       "  </thead>\n",
       "  <tbody>\n",
       "    <tr>\n",
       "      <th>0</th>\n",
       "      <td>13500</td>\n",
       "      <td>Prince of Persia: Warrior Within™</td>\n",
       "      <td>2008-11-21</td>\n",
       "      <td>True</td>\n",
       "      <td>False</td>\n",
       "      <td>False</td>\n",
       "      <td>Very Positive</td>\n",
       "      <td>84</td>\n",
       "      <td>2199</td>\n",
       "      <td>9.990</td>\n",
       "      <td>9.990</td>\n",
       "      <td>0.000</td>\n",
       "      <td>True</td>\n",
       "    </tr>\n",
       "    <tr>\n",
       "      <th>1</th>\n",
       "      <td>22364</td>\n",
       "      <td>BRINK: Agents of Change</td>\n",
       "      <td>2011-08-03</td>\n",
       "      <td>True</td>\n",
       "      <td>False</td>\n",
       "      <td>False</td>\n",
       "      <td>Positive</td>\n",
       "      <td>85</td>\n",
       "      <td>21</td>\n",
       "      <td>2.990</td>\n",
       "      <td>2.990</td>\n",
       "      <td>0.000</td>\n",
       "      <td>True</td>\n",
       "    </tr>\n",
       "    <tr>\n",
       "      <th>2</th>\n",
       "      <td>113020</td>\n",
       "      <td>Monaco: What's Yours Is Mine</td>\n",
       "      <td>2013-04-24</td>\n",
       "      <td>True</td>\n",
       "      <td>True</td>\n",
       "      <td>True</td>\n",
       "      <td>Very Positive</td>\n",
       "      <td>92</td>\n",
       "      <td>3722</td>\n",
       "      <td>14.990</td>\n",
       "      <td>14.990</td>\n",
       "      <td>0.000</td>\n",
       "      <td>True</td>\n",
       "    </tr>\n",
       "    <tr>\n",
       "      <th>3</th>\n",
       "      <td>226560</td>\n",
       "      <td>Escape Dead Island</td>\n",
       "      <td>2014-11-18</td>\n",
       "      <td>True</td>\n",
       "      <td>False</td>\n",
       "      <td>False</td>\n",
       "      <td>Mixed</td>\n",
       "      <td>61</td>\n",
       "      <td>873</td>\n",
       "      <td>14.990</td>\n",
       "      <td>14.990</td>\n",
       "      <td>0.000</td>\n",
       "      <td>True</td>\n",
       "    </tr>\n",
       "    <tr>\n",
       "      <th>4</th>\n",
       "      <td>249050</td>\n",
       "      <td>Dungeon of the ENDLESS™</td>\n",
       "      <td>2014-10-27</td>\n",
       "      <td>True</td>\n",
       "      <td>True</td>\n",
       "      <td>False</td>\n",
       "      <td>Very Positive</td>\n",
       "      <td>88</td>\n",
       "      <td>8784</td>\n",
       "      <td>11.990</td>\n",
       "      <td>11.990</td>\n",
       "      <td>0.000</td>\n",
       "      <td>True</td>\n",
       "    </tr>\n",
       "  </tbody>\n",
       "</table>\n",
       "</div>"
      ],
      "text/plain": [
       "   app_id                              title date_release   win    mac  linux  \\\n",
       "0   13500  Prince of Persia: Warrior Within™   2008-11-21  True  False  False   \n",
       "1   22364            BRINK: Agents of Change   2011-08-03  True  False  False   \n",
       "2  113020       Monaco: What's Yours Is Mine   2013-04-24  True   True   True   \n",
       "3  226560                 Escape Dead Island   2014-11-18  True  False  False   \n",
       "4  249050            Dungeon of the ENDLESS™   2014-10-27  True   True  False   \n",
       "\n",
       "          rating  positive_ratio  user_reviews  price_final  price_original  \\\n",
       "0  Very Positive              84          2199        9.990           9.990   \n",
       "1       Positive              85            21        2.990           2.990   \n",
       "2  Very Positive              92          3722       14.990          14.990   \n",
       "3          Mixed              61           873       14.990          14.990   \n",
       "4  Very Positive              88          8784       11.990          11.990   \n",
       "\n",
       "   discount  steam_deck  \n",
       "0     0.000        True  \n",
       "1     0.000        True  \n",
       "2     0.000        True  \n",
       "3     0.000        True  \n",
       "4     0.000        True  "
      ]
     },
     "execution_count": 3,
     "metadata": {},
     "output_type": "execute_result"
    }
   ],
   "source": [
    "# Looking at our data\n",
    "games_data.head(5)"
   ]
  },
  {
   "cell_type": "code",
   "execution_count": 4,
   "id": "5a94614e",
   "metadata": {},
   "outputs": [
    {
     "data": {
      "text/html": [
       "<div>\n",
       "<style scoped>\n",
       "    .dataframe tbody tr th:only-of-type {\n",
       "        vertical-align: middle;\n",
       "    }\n",
       "\n",
       "    .dataframe tbody tr th {\n",
       "        vertical-align: top;\n",
       "    }\n",
       "\n",
       "    .dataframe thead th {\n",
       "        text-align: right;\n",
       "    }\n",
       "</style>\n",
       "<table border=\"1\" class=\"dataframe\">\n",
       "  <thead>\n",
       "    <tr style=\"text-align: right;\">\n",
       "      <th></th>\n",
       "      <th>app_id</th>\n",
       "      <th>helpful</th>\n",
       "      <th>funny</th>\n",
       "      <th>date</th>\n",
       "      <th>is_recommended</th>\n",
       "      <th>hours</th>\n",
       "      <th>user_id</th>\n",
       "      <th>review_id</th>\n",
       "    </tr>\n",
       "  </thead>\n",
       "  <tbody>\n",
       "    <tr>\n",
       "      <th>0</th>\n",
       "      <td>975370</td>\n",
       "      <td>0</td>\n",
       "      <td>0</td>\n",
       "      <td>2022-12-12</td>\n",
       "      <td>True</td>\n",
       "      <td>36.300</td>\n",
       "      <td>51580</td>\n",
       "      <td>0</td>\n",
       "    </tr>\n",
       "    <tr>\n",
       "      <th>1</th>\n",
       "      <td>304390</td>\n",
       "      <td>4</td>\n",
       "      <td>0</td>\n",
       "      <td>2017-02-17</td>\n",
       "      <td>False</td>\n",
       "      <td>11.500</td>\n",
       "      <td>2586</td>\n",
       "      <td>1</td>\n",
       "    </tr>\n",
       "    <tr>\n",
       "      <th>2</th>\n",
       "      <td>1085660</td>\n",
       "      <td>2</td>\n",
       "      <td>0</td>\n",
       "      <td>2019-11-17</td>\n",
       "      <td>True</td>\n",
       "      <td>336.500</td>\n",
       "      <td>253880</td>\n",
       "      <td>2</td>\n",
       "    </tr>\n",
       "    <tr>\n",
       "      <th>3</th>\n",
       "      <td>703080</td>\n",
       "      <td>0</td>\n",
       "      <td>0</td>\n",
       "      <td>2022-09-23</td>\n",
       "      <td>True</td>\n",
       "      <td>27.400</td>\n",
       "      <td>259432</td>\n",
       "      <td>3</td>\n",
       "    </tr>\n",
       "    <tr>\n",
       "      <th>4</th>\n",
       "      <td>526870</td>\n",
       "      <td>0</td>\n",
       "      <td>0</td>\n",
       "      <td>2021-01-10</td>\n",
       "      <td>True</td>\n",
       "      <td>7.900</td>\n",
       "      <td>23869</td>\n",
       "      <td>4</td>\n",
       "    </tr>\n",
       "  </tbody>\n",
       "</table>\n",
       "</div>"
      ],
      "text/plain": [
       "    app_id  helpful  funny        date  is_recommended   hours  user_id  \\\n",
       "0   975370        0      0  2022-12-12            True  36.300    51580   \n",
       "1   304390        4      0  2017-02-17           False  11.500     2586   \n",
       "2  1085660        2      0  2019-11-17            True 336.500   253880   \n",
       "3   703080        0      0  2022-09-23            True  27.400   259432   \n",
       "4   526870        0      0  2021-01-10            True   7.900    23869   \n",
       "\n",
       "   review_id  \n",
       "0          0  \n",
       "1          1  \n",
       "2          2  \n",
       "3          3  \n",
       "4          4  "
      ]
     },
     "execution_count": 4,
     "metadata": {},
     "output_type": "execute_result"
    }
   ],
   "source": [
    "recommendations_data.head(5)"
   ]
  },
  {
   "cell_type": "code",
   "execution_count": 5,
   "id": "a0ea8e0a",
   "metadata": {},
   "outputs": [
    {
     "data": {
      "text/html": [
       "<div>\n",
       "<style scoped>\n",
       "    .dataframe tbody tr th:only-of-type {\n",
       "        vertical-align: middle;\n",
       "    }\n",
       "\n",
       "    .dataframe tbody tr th {\n",
       "        vertical-align: top;\n",
       "    }\n",
       "\n",
       "    .dataframe thead th {\n",
       "        text-align: right;\n",
       "    }\n",
       "</style>\n",
       "<table border=\"1\" class=\"dataframe\">\n",
       "  <thead>\n",
       "    <tr style=\"text-align: right;\">\n",
       "      <th></th>\n",
       "      <th>user_id</th>\n",
       "      <th>products</th>\n",
       "      <th>reviews</th>\n",
       "    </tr>\n",
       "  </thead>\n",
       "  <tbody>\n",
       "    <tr>\n",
       "      <th>0</th>\n",
       "      <td>7090995</td>\n",
       "      <td>359</td>\n",
       "      <td>0</td>\n",
       "    </tr>\n",
       "    <tr>\n",
       "      <th>1</th>\n",
       "      <td>13511788</td>\n",
       "      <td>156</td>\n",
       "      <td>1</td>\n",
       "    </tr>\n",
       "    <tr>\n",
       "      <th>2</th>\n",
       "      <td>8444727</td>\n",
       "      <td>329</td>\n",
       "      <td>4</td>\n",
       "    </tr>\n",
       "    <tr>\n",
       "      <th>3</th>\n",
       "      <td>4632233</td>\n",
       "      <td>176</td>\n",
       "      <td>3</td>\n",
       "    </tr>\n",
       "    <tr>\n",
       "      <th>4</th>\n",
       "      <td>4968781</td>\n",
       "      <td>98</td>\n",
       "      <td>2</td>\n",
       "    </tr>\n",
       "  </tbody>\n",
       "</table>\n",
       "</div>"
      ],
      "text/plain": [
       "    user_id  products  reviews\n",
       "0   7090995       359        0\n",
       "1  13511788       156        1\n",
       "2   8444727       329        4\n",
       "3   4632233       176        3\n",
       "4   4968781        98        2"
      ]
     },
     "execution_count": 5,
     "metadata": {},
     "output_type": "execute_result"
    }
   ],
   "source": [
    "users_data.head(5)"
   ]
  },
  {
   "cell_type": "code",
   "execution_count": 6,
   "id": "2357a4f1",
   "metadata": {},
   "outputs": [],
   "source": [
    "# Combining the data into one dataframe \n",
    "data = pd.merge(games_data, recommendations_data) \n",
    "games = pd.merge(data, users_data)"
   ]
  },
  {
   "cell_type": "code",
   "execution_count": 7,
   "id": "3a868faf",
   "metadata": {},
   "outputs": [
    {
     "data": {
      "text/html": [
       "<div>\n",
       "<style scoped>\n",
       "    .dataframe tbody tr th:only-of-type {\n",
       "        vertical-align: middle;\n",
       "    }\n",
       "\n",
       "    .dataframe tbody tr th {\n",
       "        vertical-align: top;\n",
       "    }\n",
       "\n",
       "    .dataframe thead th {\n",
       "        text-align: right;\n",
       "    }\n",
       "</style>\n",
       "<table border=\"1\" class=\"dataframe\">\n",
       "  <thead>\n",
       "    <tr style=\"text-align: right;\">\n",
       "      <th></th>\n",
       "      <th>app_id</th>\n",
       "      <th>title</th>\n",
       "      <th>date_release</th>\n",
       "      <th>win</th>\n",
       "      <th>mac</th>\n",
       "      <th>linux</th>\n",
       "      <th>rating</th>\n",
       "      <th>positive_ratio</th>\n",
       "      <th>user_reviews</th>\n",
       "      <th>price_final</th>\n",
       "      <th>...</th>\n",
       "      <th>steam_deck</th>\n",
       "      <th>helpful</th>\n",
       "      <th>funny</th>\n",
       "      <th>date</th>\n",
       "      <th>is_recommended</th>\n",
       "      <th>hours</th>\n",
       "      <th>user_id</th>\n",
       "      <th>review_id</th>\n",
       "      <th>products</th>\n",
       "      <th>reviews</th>\n",
       "    </tr>\n",
       "  </thead>\n",
       "  <tbody>\n",
       "    <tr>\n",
       "      <th>0</th>\n",
       "      <td>13500</td>\n",
       "      <td>Prince of Persia: Warrior Within™</td>\n",
       "      <td>2008-11-21</td>\n",
       "      <td>True</td>\n",
       "      <td>False</td>\n",
       "      <td>False</td>\n",
       "      <td>Very Positive</td>\n",
       "      <td>84</td>\n",
       "      <td>2199</td>\n",
       "      <td>9.990</td>\n",
       "      <td>...</td>\n",
       "      <td>True</td>\n",
       "      <td>2</td>\n",
       "      <td>0</td>\n",
       "      <td>2015-05-30</td>\n",
       "      <td>True</td>\n",
       "      <td>0.400</td>\n",
       "      <td>3369378</td>\n",
       "      <td>14254690</td>\n",
       "      <td>53</td>\n",
       "      <td>2</td>\n",
       "    </tr>\n",
       "    <tr>\n",
       "      <th>1</th>\n",
       "      <td>548570</td>\n",
       "      <td>RAGE 2</td>\n",
       "      <td>2019-05-13</td>\n",
       "      <td>True</td>\n",
       "      <td>False</td>\n",
       "      <td>False</td>\n",
       "      <td>Mixed</td>\n",
       "      <td>62</td>\n",
       "      <td>12779</td>\n",
       "      <td>39.990</td>\n",
       "      <td>...</td>\n",
       "      <td>True</td>\n",
       "      <td>3</td>\n",
       "      <td>0</td>\n",
       "      <td>2019-09-24</td>\n",
       "      <td>True</td>\n",
       "      <td>0.200</td>\n",
       "      <td>3369378</td>\n",
       "      <td>35063870</td>\n",
       "      <td>53</td>\n",
       "      <td>2</td>\n",
       "    </tr>\n",
       "    <tr>\n",
       "      <th>2</th>\n",
       "      <td>247910</td>\n",
       "      <td>Sniper Elite: Nazi Zombie Army 2</td>\n",
       "      <td>2013-10-31</td>\n",
       "      <td>True</td>\n",
       "      <td>False</td>\n",
       "      <td>False</td>\n",
       "      <td>Very Positive</td>\n",
       "      <td>84</td>\n",
       "      <td>2858</td>\n",
       "      <td>14.990</td>\n",
       "      <td>...</td>\n",
       "      <td>True</td>\n",
       "      <td>0</td>\n",
       "      <td>0</td>\n",
       "      <td>2014-03-01</td>\n",
       "      <td>True</td>\n",
       "      <td>3.100</td>\n",
       "      <td>3369378</td>\n",
       "      <td>33238060</td>\n",
       "      <td>53</td>\n",
       "      <td>2</td>\n",
       "    </tr>\n",
       "    <tr>\n",
       "      <th>3</th>\n",
       "      <td>354380</td>\n",
       "      <td>Assassin’s Creed® Chronicles: China</td>\n",
       "      <td>2015-04-21</td>\n",
       "      <td>True</td>\n",
       "      <td>False</td>\n",
       "      <td>False</td>\n",
       "      <td>Mostly Positive</td>\n",
       "      <td>73</td>\n",
       "      <td>2954</td>\n",
       "      <td>9.990</td>\n",
       "      <td>...</td>\n",
       "      <td>True</td>\n",
       "      <td>190</td>\n",
       "      <td>46</td>\n",
       "      <td>2015-04-21</td>\n",
       "      <td>True</td>\n",
       "      <td>15.500</td>\n",
       "      <td>3369378</td>\n",
       "      <td>29395335</td>\n",
       "      <td>53</td>\n",
       "      <td>2</td>\n",
       "    </tr>\n",
       "    <tr>\n",
       "      <th>4</th>\n",
       "      <td>35720</td>\n",
       "      <td>Trine 2: Complete Story</td>\n",
       "      <td>2013-06-06</td>\n",
       "      <td>True</td>\n",
       "      <td>True</td>\n",
       "      <td>True</td>\n",
       "      <td>Overwhelmingly Positive</td>\n",
       "      <td>95</td>\n",
       "      <td>14180</td>\n",
       "      <td>19.990</td>\n",
       "      <td>...</td>\n",
       "      <td>True</td>\n",
       "      <td>0</td>\n",
       "      <td>0</td>\n",
       "      <td>2014-04-14</td>\n",
       "      <td>True</td>\n",
       "      <td>8.000</td>\n",
       "      <td>3369378</td>\n",
       "      <td>41012521</td>\n",
       "      <td>53</td>\n",
       "      <td>2</td>\n",
       "    </tr>\n",
       "  </tbody>\n",
       "</table>\n",
       "<p>5 rows × 22 columns</p>\n",
       "</div>"
      ],
      "text/plain": [
       "   app_id                                title date_release   win    mac  \\\n",
       "0   13500    Prince of Persia: Warrior Within™   2008-11-21  True  False   \n",
       "1  548570                               RAGE 2   2019-05-13  True  False   \n",
       "2  247910     Sniper Elite: Nazi Zombie Army 2   2013-10-31  True  False   \n",
       "3  354380  Assassin’s Creed® Chronicles: China   2015-04-21  True  False   \n",
       "4   35720              Trine 2: Complete Story   2013-06-06  True   True   \n",
       "\n",
       "   linux                   rating  positive_ratio  user_reviews  price_final  \\\n",
       "0  False            Very Positive              84          2199        9.990   \n",
       "1  False                    Mixed              62         12779       39.990   \n",
       "2  False            Very Positive              84          2858       14.990   \n",
       "3  False          Mostly Positive              73          2954        9.990   \n",
       "4   True  Overwhelmingly Positive              95         14180       19.990   \n",
       "\n",
       "   ...  steam_deck  helpful  funny        date  is_recommended  hours  \\\n",
       "0  ...        True        2      0  2015-05-30            True  0.400   \n",
       "1  ...        True        3      0  2019-09-24            True  0.200   \n",
       "2  ...        True        0      0  2014-03-01            True  3.100   \n",
       "3  ...        True      190     46  2015-04-21            True 15.500   \n",
       "4  ...        True        0      0  2014-04-14            True  8.000   \n",
       "\n",
       "   user_id  review_id  products  reviews  \n",
       "0  3369378   14254690        53        2  \n",
       "1  3369378   35063870        53        2  \n",
       "2  3369378   33238060        53        2  \n",
       "3  3369378   29395335        53        2  \n",
       "4  3369378   41012521        53        2  \n",
       "\n",
       "[5 rows x 22 columns]"
      ]
     },
     "execution_count": 7,
     "metadata": {},
     "output_type": "execute_result"
    }
   ],
   "source": [
    "games.head()"
   ]
  },
  {
   "cell_type": "code",
   "execution_count": 8,
   "id": "09852dc2",
   "metadata": {},
   "outputs": [
    {
     "name": "stdout",
     "output_type": "stream",
     "text": [
      "<class 'pandas.core.frame.DataFrame'>\n",
      "RangeIndex: 39632960 entries, 0 to 39632959\n",
      "Data columns (total 22 columns):\n",
      " #   Column          Dtype  \n",
      "---  ------          -----  \n",
      " 0   app_id          int64  \n",
      " 1   title           object \n",
      " 2   date_release    object \n",
      " 3   win             bool   \n",
      " 4   mac             bool   \n",
      " 5   linux           bool   \n",
      " 6   rating          object \n",
      " 7   positive_ratio  int64  \n",
      " 8   user_reviews    int64  \n",
      " 9   price_final     float64\n",
      " 10  price_original  float64\n",
      " 11  discount        float64\n",
      " 12  steam_deck      bool   \n",
      " 13  helpful         int64  \n",
      " 14  funny           int64  \n",
      " 15  date            object \n",
      " 16  is_recommended  bool   \n",
      " 17  hours           float64\n",
      " 18  user_id         int64  \n",
      " 19  review_id       int64  \n",
      " 20  products        int64  \n",
      " 21  reviews         int64  \n",
      "dtypes: bool(5), float64(4), int64(9), object(4)\n",
      "memory usage: 5.2+ GB\n"
     ]
    }
   ],
   "source": [
    "games.info()"
   ]
  },
  {
   "cell_type": "code",
   "execution_count": 9,
   "id": "178d5397",
   "metadata": {},
   "outputs": [],
   "source": [
    "# Dropping the columns that are not needed for further analysis\n",
    "columns_to_drop = ['price_original', 'discount', 'user_id', 'review_id', 'funny', \n",
    "                   'helpful', 'date', 'hours', 'products','reviews']\n",
    "games = games.drop(columns_to_drop, axis=1)"
   ]
  },
  {
   "cell_type": "code",
   "execution_count": 10,
   "id": "756470d0-8062-475e-98a5-ac5152909f66",
   "metadata": {},
   "outputs": [],
   "source": [
    "# Dropping duplicates\n",
    "games.drop_duplicates(inplace=True)"
   ]
  },
  {
   "cell_type": "code",
   "execution_count": 11,
   "id": "8727d0f3-6bcd-41ca-8930-74fefcc27939",
   "metadata": {},
   "outputs": [],
   "source": [
    "games.to_csv('games1.csv', index=False)"
   ]
  },
  {
   "cell_type": "code",
   "execution_count": 12,
   "id": "f0068883",
   "metadata": {},
   "outputs": [
    {
     "data": {
      "text/html": [
       "<div>\n",
       "<style scoped>\n",
       "    .dataframe tbody tr th:only-of-type {\n",
       "        vertical-align: middle;\n",
       "    }\n",
       "\n",
       "    .dataframe tbody tr th {\n",
       "        vertical-align: top;\n",
       "    }\n",
       "\n",
       "    .dataframe thead th {\n",
       "        text-align: right;\n",
       "    }\n",
       "</style>\n",
       "<table border=\"1\" class=\"dataframe\">\n",
       "  <thead>\n",
       "    <tr style=\"text-align: right;\">\n",
       "      <th></th>\n",
       "      <th>app_id</th>\n",
       "      <th>title</th>\n",
       "      <th>date_release</th>\n",
       "      <th>win</th>\n",
       "      <th>mac</th>\n",
       "      <th>linux</th>\n",
       "      <th>rating</th>\n",
       "      <th>positive_ratio</th>\n",
       "      <th>user_reviews</th>\n",
       "      <th>price_final</th>\n",
       "      <th>steam_deck</th>\n",
       "      <th>is_recommended</th>\n",
       "    </tr>\n",
       "  </thead>\n",
       "  <tbody>\n",
       "    <tr>\n",
       "      <th>0</th>\n",
       "      <td>13500</td>\n",
       "      <td>Prince of Persia: Warrior Within™</td>\n",
       "      <td>2008-11-21</td>\n",
       "      <td>True</td>\n",
       "      <td>False</td>\n",
       "      <td>False</td>\n",
       "      <td>Very Positive</td>\n",
       "      <td>84</td>\n",
       "      <td>2199</td>\n",
       "      <td>9.990</td>\n",
       "      <td>True</td>\n",
       "      <td>True</td>\n",
       "    </tr>\n",
       "    <tr>\n",
       "      <th>1</th>\n",
       "      <td>548570</td>\n",
       "      <td>RAGE 2</td>\n",
       "      <td>2019-05-13</td>\n",
       "      <td>True</td>\n",
       "      <td>False</td>\n",
       "      <td>False</td>\n",
       "      <td>Mixed</td>\n",
       "      <td>62</td>\n",
       "      <td>12779</td>\n",
       "      <td>39.990</td>\n",
       "      <td>True</td>\n",
       "      <td>True</td>\n",
       "    </tr>\n",
       "    <tr>\n",
       "      <th>2</th>\n",
       "      <td>247910</td>\n",
       "      <td>Sniper Elite: Nazi Zombie Army 2</td>\n",
       "      <td>2013-10-31</td>\n",
       "      <td>True</td>\n",
       "      <td>False</td>\n",
       "      <td>False</td>\n",
       "      <td>Very Positive</td>\n",
       "      <td>84</td>\n",
       "      <td>2858</td>\n",
       "      <td>14.990</td>\n",
       "      <td>True</td>\n",
       "      <td>True</td>\n",
       "    </tr>\n",
       "    <tr>\n",
       "      <th>3</th>\n",
       "      <td>354380</td>\n",
       "      <td>Assassin’s Creed® Chronicles: China</td>\n",
       "      <td>2015-04-21</td>\n",
       "      <td>True</td>\n",
       "      <td>False</td>\n",
       "      <td>False</td>\n",
       "      <td>Mostly Positive</td>\n",
       "      <td>73</td>\n",
       "      <td>2954</td>\n",
       "      <td>9.990</td>\n",
       "      <td>True</td>\n",
       "      <td>True</td>\n",
       "    </tr>\n",
       "    <tr>\n",
       "      <th>4</th>\n",
       "      <td>35720</td>\n",
       "      <td>Trine 2: Complete Story</td>\n",
       "      <td>2013-06-06</td>\n",
       "      <td>True</td>\n",
       "      <td>True</td>\n",
       "      <td>True</td>\n",
       "      <td>Overwhelmingly Positive</td>\n",
       "      <td>95</td>\n",
       "      <td>14180</td>\n",
       "      <td>19.990</td>\n",
       "      <td>True</td>\n",
       "      <td>True</td>\n",
       "    </tr>\n",
       "  </tbody>\n",
       "</table>\n",
       "</div>"
      ],
      "text/plain": [
       "   app_id                                title date_release   win    mac  \\\n",
       "0   13500    Prince of Persia: Warrior Within™   2008-11-21  True  False   \n",
       "1  548570                               RAGE 2   2019-05-13  True  False   \n",
       "2  247910     Sniper Elite: Nazi Zombie Army 2   2013-10-31  True  False   \n",
       "3  354380  Assassin’s Creed® Chronicles: China   2015-04-21  True  False   \n",
       "4   35720              Trine 2: Complete Story   2013-06-06  True   True   \n",
       "\n",
       "   linux                   rating  positive_ratio  user_reviews  price_final  \\\n",
       "0  False            Very Positive              84          2199        9.990   \n",
       "1  False                    Mixed              62         12779       39.990   \n",
       "2  False            Very Positive              84          2858       14.990   \n",
       "3  False          Mostly Positive              73          2954        9.990   \n",
       "4   True  Overwhelmingly Positive              95         14180       19.990   \n",
       "\n",
       "   steam_deck  is_recommended  \n",
       "0        True            True  \n",
       "1        True            True  \n",
       "2        True            True  \n",
       "3        True            True  \n",
       "4        True            True  "
      ]
     },
     "execution_count": 12,
     "metadata": {},
     "output_type": "execute_result"
    }
   ],
   "source": [
    "games1 = pd.read_csv('./games1.csv')\n",
    "games1.head()"
   ]
  },
  {
   "cell_type": "code",
   "execution_count": 13,
   "id": "e7bedea2",
   "metadata": {},
   "outputs": [
    {
     "data": {
      "text/html": [
       "<div>\n",
       "<style scoped>\n",
       "    .dataframe tbody tr th:only-of-type {\n",
       "        vertical-align: middle;\n",
       "    }\n",
       "\n",
       "    .dataframe tbody tr th {\n",
       "        vertical-align: top;\n",
       "    }\n",
       "\n",
       "    .dataframe thead th {\n",
       "        text-align: right;\n",
       "    }\n",
       "</style>\n",
       "<table border=\"1\" class=\"dataframe\">\n",
       "  <thead>\n",
       "    <tr style=\"text-align: right;\">\n",
       "      <th></th>\n",
       "      <th>app_id</th>\n",
       "      <th>positive_ratio</th>\n",
       "      <th>user_reviews</th>\n",
       "      <th>price_final</th>\n",
       "    </tr>\n",
       "  </thead>\n",
       "  <tbody>\n",
       "    <tr>\n",
       "      <th>count</th>\n",
       "      <td>71212.000</td>\n",
       "      <td>71212.000</td>\n",
       "      <td>71212.000</td>\n",
       "      <td>71212.000</td>\n",
       "    </tr>\n",
       "    <tr>\n",
       "      <th>mean</th>\n",
       "      <td>962386.752</td>\n",
       "      <td>75.752</td>\n",
       "      <td>2497.417</td>\n",
       "      <td>8.510</td>\n",
       "    </tr>\n",
       "    <tr>\n",
       "      <th>std</th>\n",
       "      <td>547393.905</td>\n",
       "      <td>17.824</td>\n",
       "      <td>47852.412</td>\n",
       "      <td>10.902</td>\n",
       "    </tr>\n",
       "    <tr>\n",
       "      <th>min</th>\n",
       "      <td>10.000</td>\n",
       "      <td>0.000</td>\n",
       "      <td>10.000</td>\n",
       "      <td>0.000</td>\n",
       "    </tr>\n",
       "    <tr>\n",
       "      <th>25%</th>\n",
       "      <td>502187.500</td>\n",
       "      <td>66.000</td>\n",
       "      <td>23.000</td>\n",
       "      <td>0.990</td>\n",
       "    </tr>\n",
       "    <tr>\n",
       "      <th>50%</th>\n",
       "      <td>883875.000</td>\n",
       "      <td>80.000</td>\n",
       "      <td>66.000</td>\n",
       "      <td>4.990</td>\n",
       "    </tr>\n",
       "    <tr>\n",
       "      <th>75%</th>\n",
       "      <td>1383255.000</td>\n",
       "      <td>90.000</td>\n",
       "      <td>312.000</td>\n",
       "      <td>11.990</td>\n",
       "    </tr>\n",
       "    <tr>\n",
       "      <th>max</th>\n",
       "      <td>2253290.000</td>\n",
       "      <td>100.000</td>\n",
       "      <td>7494460.000</td>\n",
       "      <td>269.990</td>\n",
       "    </tr>\n",
       "  </tbody>\n",
       "</table>\n",
       "</div>"
      ],
      "text/plain": [
       "           app_id  positive_ratio  user_reviews  price_final\n",
       "count   71212.000       71212.000     71212.000    71212.000\n",
       "mean   962386.752          75.752      2497.417        8.510\n",
       "std    547393.905          17.824     47852.412       10.902\n",
       "min        10.000           0.000        10.000        0.000\n",
       "25%    502187.500          66.000        23.000        0.990\n",
       "50%    883875.000          80.000        66.000        4.990\n",
       "75%   1383255.000          90.000       312.000       11.990\n",
       "max   2253290.000         100.000   7494460.000      269.990"
      ]
     },
     "execution_count": 13,
     "metadata": {},
     "output_type": "execute_result"
    }
   ],
   "source": [
    "games1.describe()"
   ]
  },
  {
   "cell_type": "code",
   "execution_count": 14,
   "id": "a9e16b40",
   "metadata": {},
   "outputs": [
    {
     "data": {
      "image/png": "[encoded data removed]",
      "text/plain": [
       "<Figure size 800x800 with 1 Axes>"
      ]
     },
     "metadata": {},
     "output_type": "display_data"
    }
   ],
   "source": [
    "# Counting occurrences of each category\n",
    "category_counts = games1['is_recommended'].value_counts()\n",
    "colors = ['mediumpurple', 'orchid']\n",
    "# Plotting the pie chart\n",
    "plt.figure(figsize=(8, 8))\n",
    "plt.pie(category_counts, labels=category_counts.index, autopct='%1.1f%%', startangle=90, colors = colors)\n",
    "plt.title('Game is recommended')\n",
    "plt.show()"
   ]
  },
  {
   "cell_type": "code",
   "execution_count": 15,
   "id": "3bb73be8",
   "metadata": {},
   "outputs": [
    {
     "data": {
      "image/png": "[encoded data removed]",
      "text/plain": [
       "<Figure size 800x800 with 1 Axes>"
      ]
     },
     "metadata": {},
     "output_type": "display_data"
    }
   ],
   "source": [
    "# Counting occurrences of each category\n",
    "category_counts_1 = games1['mac'].value_counts()\n",
    "colors = ['orchid', 'lightblue']\n",
    "# Plotting the pie chart\n",
    "plt.figure(figsize=(8, 8))\n",
    "plt.pie(category_counts_1, labels=category_counts_1.index, autopct='%1.1f%%', startangle=90,colors = colors)\n",
    "plt.title('Game is available on Mac OS')\n",
    "plt.show()"
   ]
  },
  {
   "cell_type": "code",
   "execution_count": 16,
   "id": "6c78c28c",
   "metadata": {},
   "outputs": [
    {
     "data": {
      "image/png": "[encoded data removed]",
      "text/plain": [
       "<Figure size 800x800 with 1 Axes>"
      ]
     },
     "metadata": {},
     "output_type": "display_data"
    }
   ],
   "source": [
    "# Counting occurrences of each category\n",
    "category_counts_2 = games1['linux'].value_counts()\n",
    "colors = ['cadetblue', 'darkorchid']\n",
    "# Plotting the pie chart\n",
    "plt.figure(figsize=(8, 8))\n",
    "plt.pie(category_counts_2, labels=category_counts_2.index, autopct='%1.1f%%', startangle=90, colors = colors)\n",
    "plt.title('Game is available on Linux')\n",
    "plt.show()"
   ]
  },
  {
   "cell_type": "code",
   "execution_count": 17,
   "id": "c14bfd0c-e619-4688-8f21-b174753ef37e",
   "metadata": {},
   "outputs": [
    {
     "data": {
      "image/png": "[encoded data removed]",
      "text/plain": [
       "<Figure size 800x800 with 1 Axes>"
      ]
     },
     "metadata": {},
     "output_type": "display_data"
    }
   ],
   "source": [
    "# Counting occurrences of each category\n",
    "category_counts_3 = games1['steam_deck'].value_counts()\n",
    "colors = ['pink', 'orchid']\n",
    "# Plotting the pie chart\n",
    "plt.figure(figsize=(8, 8))\n",
    "plt.pie(category_counts_2, labels=category_counts_2.index, autopct='%1.1f%%', startangle=90, colors = colors)\n",
    "plt.title('Game is available on Steam Deck')\n",
    "plt.show()"
   ]
  },
  {
   "cell_type": "code",
   "execution_count": 18,
   "id": "0e13fb81",
   "metadata": {},
   "outputs": [
    {
     "name": "stdout",
     "output_type": "stream",
     "text": [
      "rating\n",
      "Very Positive              29.0049%\n",
      "Mixed                      25.8805%\n",
      "Positive                   19.1077%\n",
      "Mostly Positive            18.6696%\n",
      "Mostly Negative             3.7887%\n",
      "Overwhelmingly Positive     2.8240%\n",
      "Negative                    0.6207%\n",
      "Very Negative               0.0843%\n",
      "Overwhelmingly Negative     0.0197%\n",
      "Name: proportion, dtype: object\n"
     ]
    }
   ],
   "source": [
    "# Counting percentage of ratings\n",
    "percentage_distribution = games1['rating'].value_counts(normalize=True) * 100\n",
    "\n",
    "# Printing the result\n",
    "print(percentage_distribution.map('{:.4f}%'.format))"
   ]
  },
  {
   "cell_type": "code",
   "execution_count": 19,
   "id": "4bb82dfc",
   "metadata": {},
   "outputs": [
    {
     "data": {
      "image/png": "[encoded data removed]",
      "text/plain": [
       "<Figure size 1000x600 with 1 Axes>"
      ]
     },
     "metadata": {},
     "output_type": "display_data"
    }
   ],
   "source": [
    "# Converting the 'date_release' to a datetime format\n",
    "games1['date_release'] = pd.to_datetime(games1['date_release'])\n",
    "\n",
    "# Plotting the histogram\n",
    "plt.figure(figsize=(10, 6))\n",
    "plt.hist(games1['date_release'].dt.year, bins=50, edgecolor='black', color='cornflowerblue')  # Используем .dt.year\n",
    "plt.title('Histogram of Years')\n",
    "plt.xlabel('Year')\n",
    "plt.ylabel('Frequency')\n",
    "\n",
    "# Устанавливаем шаг оси x, чтобы отображать каждый год\n",
    "plt.xticks(range(games1['date_release'].dt.year.min(), games1['date_release'].dt.year.max() + 1), rotation=45)\n",
    "\n",
    "plt.show()"
   ]
  },
  {
   "cell_type": "code",
   "execution_count": 20,
   "id": "aa604ce9-6f69-441d-9af0-8cd3738e5117",
   "metadata": {},
   "outputs": [
    {
     "name": "stdout",
     "output_type": "stream",
     "text": [
      "The most frequent year: 2022\n"
     ]
    }
   ],
   "source": [
    "most_frequent_year = games1['date_release'].dt.year.mode()[0]\n",
    "print(\"The most frequent year:\", most_frequent_year)"
   ]
  },
  {
   "cell_type": "code",
   "execution_count": 21,
   "id": "b1d62dc6-6a1c-4d2d-9517-2e5cb76adcde",
   "metadata": {},
   "outputs": [
    {
     "name": "stdout",
     "output_type": "stream",
     "text": [
      "    date_release  number_of_games\n",
      "0       1997.000                4\n",
      "1       1999.000                2\n",
      "2       2000.000                3\n",
      "3       2001.000                3\n",
      "4       2002.000                2\n",
      "5       2003.000                2\n",
      "6       2004.000                6\n",
      "7       2005.000                2\n",
      "8       2006.000               45\n",
      "9       2007.000               89\n",
      "10      2008.000              133\n",
      "11      2009.000              264\n",
      "12      2010.000              202\n",
      "13      2011.000              228\n",
      "14      2012.000              300\n",
      "15      2013.000              437\n",
      "16      2014.000             1052\n",
      "17      2015.000             1293\n",
      "18      2016.000             1717\n",
      "19      2017.000             1824\n",
      "20      2018.000             1821\n",
      "21      2019.000             1605\n",
      "22      2020.000             1844\n",
      "23      2021.000             1950\n",
      "24      2022.000             1811\n",
      "25      2023.000               53\n"
     ]
    }
   ],
   "source": [
    "# Counting how many games per year were released\n",
    "games_per_year = games.groupby(games1['date_release'].dt.year).size().reset_index(name='number_of_games')\n",
    "\n",
    "# Printing the results\n",
    "print(games_per_year)\n"
   ]
  },
  {
   "cell_type": "code",
   "execution_count": 22,
   "id": "8fa65330-b6f3-4bdb-9fb0-99a203d81615",
   "metadata": {},
   "outputs": [
    {
     "name": "stdout",
     "output_type": "stream",
     "text": [
      "Unique values in column 'rating':\n",
      "['Very Positive' 'Mixed' 'Mostly Positive' 'Overwhelmingly Positive'\n",
      " 'Mostly Negative' 'Positive' 'Very Negative' 'Negative'\n",
      " 'Overwhelmingly Negative']\n"
     ]
    }
   ],
   "source": [
    "# Looking at the unique values in column 'rating'\n",
    "unique_ratings = games1['rating'].unique()\n",
    "\n",
    "# Printing unique values\n",
    "print(\"Unique values in column 'rating':\")\n",
    "print(unique_ratings)"
   ]
  },
  {
   "cell_type": "code",
   "execution_count": 23,
   "id": "07d52423-80a3-4cca-acb2-0b7d10abde2e",
   "metadata": {},
   "outputs": [
    {
     "name": "stderr",
     "output_type": "stream",
     "text": [
      "/Users/polinabykova/miniconda3/lib/python3.11/site-packages/seaborn/_oldcore.py:1498: FutureWarning: is_categorical_dtype is deprecated and will be removed in a future version. Use isinstance(dtype, CategoricalDtype) instead\n",
      "  if pd.api.types.is_categorical_dtype(vector):\n",
      "/Users/polinabykova/miniconda3/lib/python3.11/site-packages/seaborn/_oldcore.py:1498: FutureWarning: is_categorical_dtype is deprecated and will be removed in a future version. Use isinstance(dtype, CategoricalDtype) instead\n",
      "  if pd.api.types.is_categorical_dtype(vector):\n"
     ]
    },
    {
     "data": {
      "image/png": "[encoded data removed]",
      "text/plain": [
       "<Figure size 1200x600 with 1 Axes>"
      ]
     },
     "metadata": {},
     "output_type": "display_data"
    }
   ],
   "source": [
    "# Creating a bar chart\n",
    "plt.figure(figsize=(12, 6))\n",
    "sns.countplot(x='rating', data=games1, order=games1['rating'].value_counts().index)\n",
    "\n",
    "# Rotating captions on the x-axis for better readability\n",
    "plt.xticks(rotation=45, ha='right')\n",
    "\n",
    "# Adding captions and header\n",
    "plt.xlabel('Rating')\n",
    "plt.ylabel('Quantity')\n",
    "plt.title('Distribution of ratings')\n",
    "\n",
    "# Displaying the plot\n",
    "plt.show()"
   ]
  },
  {
   "cell_type": "code",
   "execution_count": 24,
   "id": "c392d0c7-c0f7-4de8-a762-6c854c140973",
   "metadata": {},
   "outputs": [
    {
     "data": {
      "image/png": "[encoded data removed]",
      "text/plain": [
       "<Figure size 1000x600 with 1 Axes>"
      ]
     },
     "metadata": {},
     "output_type": "display_data"
    }
   ],
   "source": [
    "# Exploring the Distribution of Game Prices\n",
    "plt.figure(figsize=(10, 6))\n",
    "plt.hist(games1['price_final'].dropna(), bins=30, color='skyblue', edgecolor='black')\n",
    "plt.title('Distribution of Game Prices')\n",
    "plt.xlabel('Price ($)')\n",
    "plt.ylabel('Number of Games')\n",
    "plt.show()"
   ]
  },
  {
   "cell_type": "code",
   "execution_count": 25,
   "id": "79f02b81-6c2a-45b9-94cc-8a855c217d40",
   "metadata": {},
   "outputs": [
    {
     "name": "stdout",
     "output_type": "stream",
     "text": [
      "Average Game Price: $8.51\n"
     ]
    }
   ],
   "source": [
    "# Calculating Average Price\n",
    "average_price = games1['price_final'].mean()\n",
    "print(f'Average Game Price: ${average_price:.2f}')"
   ]
  },
  {
   "cell_type": "code",
   "execution_count": 26,
   "id": "480e3fde-ddf1-4095-94f6-b0980c9923da",
   "metadata": {},
   "outputs": [
    {
     "name": "stdout",
     "output_type": "stream",
     "text": [
      "Correlation between Price and Positive Ratio: 0.05\n"
     ]
    }
   ],
   "source": [
    "# Correlation with Positive Ratio\n",
    "correlation_price_positive_ratio = games1['price_final'].corr(games1['positive_ratio'])\n",
    "print(f'Correlation between Price and Positive Ratio: {correlation_price_positive_ratio:.2f}')"
   ]
  }
 ],
 "metadata": {
  "kernelspec": {
   "display_name": "Python 3 (ipykernel)",
   "language": "python",
   "name": "python3"
  },
  "language_info": {
   "codemirror_mode": {
    "name": "ipython",
    "version": 3
   },
   "file_extension": ".py",
   "mimetype": "text/x-python",
   "name": "python",
   "nbconvert_exporter": "python",
   "pygments_lexer": "ipython3",
   "version": "3.11.5"
  }
 },
 "nbformat": 4,
 "nbformat_minor": 5
}
